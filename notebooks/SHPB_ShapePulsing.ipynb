{
 "cells": [
  {
   "cell_type": "code",
   "execution_count": 2,
   "id": "e7975e5f-085f-4048-a03a-b68b59514b1b",
   "metadata": {},
   "outputs": [],
   "source": [
    "import numpy as np"
   ]
  },
  {
   "cell_type": "code",
   "execution_count": 69,
   "id": "b89e4bfd-6a6e-4359-a8e8-1519d976a2b7",
   "metadata": {},
   "outputs": [],
   "source": [
    "\n",
    "# Define program constants\n",
    "n_points = 150000\n",
    "\n",
    "# Initialize Arrays\n",
    "shaper_thickness = np.zeros(n_points) # mm \n",
    "shaper_eng_strain = np.zeros(n_points) # mm/mm\n",
    "time = np.zeros(n_points) # ms\n",
    "delta_t = np.zeros(n_points) # ms\n",
    "incident_eng_strain = np.zeros(n_points)\n",
    "incident_eng_stress = np.zeros(n_points)\n",
    "strain_rate = np.zeros(n_points) #1/ms\n",
    "v1 = np.zeros(n_points) # velocity of the striker bar after the incident wave interacts with pulse shaper \n",
    "v2 = np.zeros(n_points) # velocity of the incident wave\n",
    "\n",
    "# Pulse Shaper Material Properties\n",
    "shaper_yield_strength = 0.750 # GPa\n",
    "shaper_elastic_modulus = 117.21 # GPa\n",
    "shaper_strain_hardening_exponent = 0.37\n",
    "shaper_strain_rate_exponent = 4.25\n",
    "\n",
    "#Initial Conditions\n",
    "shaper_initial_thickness = 4.0 # mm\n",
    "shaper_initial_diameter = 4.0 # mm\n",
    "shaper_initial_cross = (shaper_initial_diameter**2) * (np.pi/4) # mm^2\n",
    "shaper_deformation_step = 0.0005 # mm \n",
    "n_steps = 50\n",
    "\n",
    "# Bar Properties\n",
    "bar_elastic_modulus = 200 # GPa\n",
    "bar_density = 8.1e-6 # kg/mm^3\n",
    "bar_wave_speed = 4969 # mm / ms \n",
    "bar_diameter = 9.525 # mm \n",
    "bar_cross = (np.pi / 4) * bar_diameter**2 # mm^2\n",
    "\n",
    "# Striker properties\n",
    "striker_velocity = 12.28 # m/s \n",
    "striker_length = 304.8 # mm \n",
    "striker_wave_rise_time = (2*striker_length) / bar_wave_speed # ms\n",
    "\n",
    "# Define step sizes\n",
    "star1 = shaper_deformation_step / 200\n",
    "star2 = shaper_deformation_step / 10000\n",
    "star3 = shaper_deformation_step / 52500\n",
    "star4 = shaper_deformation_step / 25000\n",
    "\n",
    "# Scaling factors\n",
    "Ak = ((shaper_yield_strength*shaper_initial_cross) / (striker_velocity*bar_cross)) * ((1/(bar_wave_speed * bar_density)) \\\n",
    "                                                                                      + (1 / (bar_wave_speed * bar_density)))    \n",
    "Ak_1 = (2*shaper_yield_strength*shaper_initial_cross) / (bar_density * bar_wave_speed * striker_velocity * bar_cross)\n",
    "\n",
    "# Initial values\n",
    "shaper_thickness[0] = shaper_initial_thickness \n",
    "v1[0] = striker_velocity\n",
    "strain_rate[0] = striker_velocity / shaper_inital_thickness\n",
    "\n",
    "sigma_max = (0.99 * 0.5 * bar_density * bar_wave_speed * striker_velocity) * 1000 # MPa\n",
    "count = 1 "
   ]
  },
  {
   "cell_type": "code",
   "execution_count": 70,
   "id": "5563f76f-83ef-4b0e-8c0f-ddbdccc0d0ae",
   "metadata": {},
   "outputs": [],
   "source": [
    "def wave_pass(n_prev_final, pass_number):\n",
    "    \"\"\"\n",
    "    Simulates a wave pass in the SHPB system.\n",
    "    \n",
    "    Parameters:\n",
    "    - n_prev_final: The last index from the previous wave pass.\n",
    "    - pass_number: The current wave pass number (1st, 2nd, etc.).\n",
    "    \n",
    "    Returns:\n",
    "    - The final index (n_final) where the strain rate becomes zero.\n",
    "    \"\"\"\n",
    "    print(f\"Starting wave pass {pass_number}...\")\n",
    "\n",
    "    n_final = n_points - 1  # Default value in case loop does not exit early\n",
    "\n",
    "    for i in range(n_prev_final + 1, n_points):\n",
    "        # Step 1: Compute new thickness (reduce thickness due to wave interaction)\n",
    "        new_thickness = shaper_thickness[i - 1] - star1\n",
    "        shaper_thickness[i] = new_thickness\n",
    "\n",
    "        # Step 2: Compute strain in the pulse shaper\n",
    "        shaper_eng_strain[i] = (shaper_initial_thickness - new_thickness) / shaper_initial_thickness\n",
    "\n",
    "        # Step 3: Compute time increment with interaction\n",
    "        denominator = 1.0 - Ak * (shaper_eng_strain[i] ** shaper_strain_hardening_exponent) / (\n",
    "                        (1.0 - shaper_eng_strain[i] ** shaper_strain_rate_exponent) * (1.0 - shaper_eng_strain[i]))\n",
    "\n",
    "        # Include reflections from previous passes ONLY if pass_number > 1\n",
    "        if pass_number > 1:\n",
    "            for j in range(pass_number - 1):  # Access only completed wave passes\n",
    "                if i - wave_final_steps[j] > 0:\n",
    "                    denominator -= Ak_1 * (shaper_eng_strain[i - wave_final_steps[j]] ** shaper_strain_hardening_exponent) / (\n",
    "                                  (1.0 - shaper_eng_strain[i - wave_final_steps[j]] ** shaper_strain_rate_exponent) * \n",
    "                                  (1.0 + shaper_eng_strain[i - wave_final_steps[j]]))\n",
    "\n",
    "        # Compute delta time\n",
    "        delta_t[i] = (shaper_initial_thickness / striker_velocity) * (1.0 / denominator) * \\\n",
    "                     (shaper_eng_strain[i] - shaper_eng_strain[i - 1]) + time[i - 1]\n",
    "\n",
    "        # Step 4: Compute the incident strain\n",
    "        incident_eng_strain[i] = (shaper_yield_strength * shaper_initial_cross) / (bar_elastic_modulus * bar_cross) * \\\n",
    "                                 (shaper_eng_strain[i] ** shaper_strain_hardening_exponent) / \\\n",
    "                                 ((1.0 + shaper_eng_strain[i] ** shaper_strain_rate_exponent) * (1.0 - shaper_eng_strain[i]))\n",
    "\n",
    "        # Step 5: Compute the incident stress\n",
    "        incident_eng_stress[i] = incident_eng_strain[i] * (bar_elastic_modulus * 1e3)  # Convert GPa to MPa\n",
    "\n",
    "        # Step 6: Ensure stress does not exceed maximum threshold\n",
    "        if incident_eng_stress[i] >= sigma_max:\n",
    "            incident_eng_stress[i] = sigma_max\n",
    "            incident_eng_strain[i] = incident_eng_stress[i] / (bar_elastic_modulus * 1e3)\n",
    "            shaper_thickness[i] = shaper_thickness[i - 1]\n",
    "            shaper_eng_strain[i] = shaper_eng_strain[i - 1]\n",
    "\n",
    "        # Step 7: Compute new velocities\n",
    "        v1[i] = striker_velocity - (incident_eng_stress[i] * 1e6) / (bar_density * bar_wave_speed)\n",
    "        v2[i] = (incident_eng_stress[i] * 1e6) / (bar_density * bar_wave_speed)\n",
    "\n",
    "        # Step 8: Compute strain rate\n",
    "        strain_rate[i] = (v1[i] - v2[i]) / shaper_initial_thickness\n",
    "\n",
    "        # Step 9: Store time step\n",
    "        time[i] = delta_t[i]\n",
    "\n",
    "        # Step 10: Stop if strain rate is near zero\n",
    "        if strain_rate[i] <= 0.0:\n",
    "            strain_rate[i] = 0.0\n",
    "            n_final = i  # Store last valid index\n",
    "            break\n",
    "\n",
    "    print(f\"Wave pass {pass_number} complete. Final step: {n_final}, Final time: {time[n_final]:.6f} ms\")\n",
    "    return n_final  # Return final step for the next pass\n"
   ]
  },
  {
   "cell_type": "code",
   "execution_count": 71,
   "id": "952c316d-a86c-4bf2-9d4f-49e2298e0202",
   "metadata": {},
   "outputs": [
    {
     "name": "stdout",
     "output_type": "stream",
     "text": [
      "Starting wave pass 1...\n",
      "Wave pass 1 complete. Final step: 1, Final time: 0.000000 ms\n",
      "Starting wave pass 2...\n",
      "Wave pass 2 complete. Final step: 2, Final time: 0.000000 ms\n",
      "Starting wave pass 3...\n",
      "Wave pass 3 complete. Final step: 3, Final time: 0.000001 ms\n",
      "Starting wave pass 4...\n",
      "Wave pass 4 complete. Final step: 4, Final time: 0.000001 ms\n",
      "Starting wave pass 5...\n",
      "Wave pass 5 complete. Final step: 5, Final time: 0.000001 ms\n",
      "Starting wave pass 6...\n",
      "Wave pass 6 complete. Final step: 6, Final time: 0.000001 ms\n"
     ]
    }
   ],
   "source": [
    "# Store final steps of each wave pass\n",
    "wave_final_steps = []\n",
    "\n",
    "# First wave pass\n",
    "n_final_1 = wave_pass(0, 1)\n",
    "wave_final_steps.append(n_final_1)\n",
    "\n",
    "# Second wave pass\n",
    "n_final_2 = wave_pass(n_final_1, 2)\n",
    "wave_final_steps.append(n_final_2)\n",
    "\n",
    "# Third wave pass\n",
    "n_final_3 = wave_pass(n_final_2, 3)\n",
    "wave_final_steps.append(n_final_3)\n",
    "\n",
    "# Fourth wave pass\n",
    "n_final_4 = wave_pass(n_final_3, 4)\n",
    "wave_final_steps.append(n_final_4)\n",
    "\n",
    "# Fifth wave pass\n",
    "n_final_5 = wave_pass(n_final_4, 5)\n",
    "wave_final_steps.append(n_final_5)\n",
    "\n",
    "# Sixth wave pass\n",
    "n_final_6 = wave_pass(n_final_5, 6)\n",
    "wave_final_steps.append(n_final_6)\n"
   ]
  },
  {
   "cell_type": "code",
   "execution_count": 72,
   "id": "e7163ec0-4ee1-4a0e-a569-d5575adb1421",
   "metadata": {},
   "outputs": [
    {
     "data": {
      "text/plain": [
       "[<matplotlib.lines.Line2D at 0x21e069afeb0>]"
      ]
     },
     "execution_count": 72,
     "metadata": {},
     "output_type": "execute_result"
    },
    {
     "data": {
      "image/png": "[encoded data removed]",
      "text/plain": [
       "<Figure size 640x480 with 1 Axes>"
      ]
     },
     "metadata": {},
     "output_type": "display_data"
    }
   ],
   "source": [
    "plt.plot(time, strain_rate)"
   ]
  },
  {
   "cell_type": "code",
   "execution_count": null,
   "id": "c574fcca-bb22-4253-91c1-74757f0eb77e",
   "metadata": {},
   "outputs": [],
   "source": []
  }
 ],
 "metadata": {
  "kernelspec": {
   "display_name": "Python 3 (ipykernel)",
   "language": "python",
   "name": "python3"
  },
  "language_info": {
   "codemirror_mode": {
    "name": "ipython",
    "version": 3
   },
   "file_extension": ".py",
   "mimetype": "text/x-python",
   "name": "python",
   "nbconvert_exporter": "python",
   "pygments_lexer": "ipython3",
   "version": "3.9.12"
  }
 },
 "nbformat": 4,
 "nbformat_minor": 5
}
