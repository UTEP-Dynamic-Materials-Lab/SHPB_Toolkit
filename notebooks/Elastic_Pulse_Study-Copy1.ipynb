{
 "cells": [
  {
   "cell_type": "code",
   "execution_count": 17,
   "id": "03ebaf6c-283f-4629-b563-faf9c3cf9bbc",
   "metadata": {},
   "outputs": [],
   "source": [
    "import os, io\n",
    "import glob\n",
    "import plotly.graph_objects as go\n",
    "import numpy as np\n",
    "import pandas as pd\n",
    "import pywt"
   ]
  },
  {
   "cell_type": "code",
   "execution_count": 152,
   "id": "0ce3b02b-000f-475b-b268-fc4a5164e352",
   "metadata": {},
   "outputs": [
    {
     "name": "stdout",
     "output_type": "stream",
     "text": [
      "10\n"
     ]
    },
    {
     "data": {
      "text/plain": [
       "['../results/ST_1018\\\\ST1018_008\\\\ST1018_008_secondary_data.csv',\n",
       " '../results/ST_1018\\\\ST1018_007\\\\ST1018_007_secondary_data.csv',\n",
       " '../results/ST_1018\\\\ST1018_009\\\\ST1018_009_primary_data.csv',\n",
       " '../results/ST_1018\\\\ST1018_009\\\\ST1018_009_secondary_data.csv',\n",
       " '../results/ST_1018\\\\ST1018_010\\\\ST1018_010_primary_data.csv',\n",
       " '../results/ST_1018\\\\ST1018_010\\\\ST1018_010_secondary_data.csv',\n",
       " '../results/ST_1018\\\\ST1018_011\\\\ST1018_011_primary_data.csv',\n",
       " '../results/ST_1018\\\\ST1018_011\\\\ST1018_011_secondary_data.csv',\n",
       " '../results/ST_1018\\\\ST1018_012\\\\ST1018_012_primary_data.csv',\n",
       " '../results/ST_1018\\\\ST1018_012\\\\ST1018_012_secondary_data.csv']"
      ]
     },
     "execution_count": 152,
     "metadata": {},
     "output_type": "execute_result"
    }
   ],
   "source": [
    "file_paths = glob.glob(\"../results/ST_1018/**/*.csv\", recursive = True)\n",
    "print(len(file_paths))\n",
    "\n",
    "\n",
    "fig_path = \"../results/ST_1018\"\n",
    "os.makedirs(fig_path, exist_ok=True)\n",
    "file_paths"
   ]
  },
  {
   "cell_type": "code",
   "execution_count": 153,
   "id": "46477120-e55f-42c5-9018-013a72b69a88",
   "metadata": {},
   "outputs": [],
   "source": [
    "legends = [\"MT and PS\", \"MT Only\", \"PS Only\", \"No Grease and No MT\"]\n",
    "#legends = [\"MT and PS\", \"MT and Grease\", \"MT and No Grease\"]\n",
    "selected = [file_paths[i] for i in [3,5,7,9]]\n",
    "rise_times = []\n",
    "line_mode = [\"solid\", \"longdash\", \"dashdot\"]\n",
    "color = [\"blue\", \"red\", \"limegreen\", \"darkorange\"]\n",
    "material = \"ST 1018\"\n"
   ]
  },
  {
   "cell_type": "code",
   "execution_count": 154,
   "id": "c536276d-8891-481b-b902-aecad8f700f9",
   "metadata": {},
   "outputs": [
    {
     "name": "stdout",
     "output_type": "stream",
     "text": [
      "../results/ST_1018\\ST1018_009\\ST1018_009_secondary_data.csv\n",
      "../results/ST_1018\\ST1018_010\\ST1018_010_secondary_data.csv\n",
      "../results/ST_1018\\ST1018_011\\ST1018_011_secondary_data.csv\n",
      "../results/ST_1018\\ST1018_012\\ST1018_012_secondary_data.csv\n"
     ]
    }
   ],
   "source": [
    "stress_strain_fig = go.Figure()\n",
    "\n",
    "for idx, file in enumerate(selected):\n",
    "    print(file)\n",
    "    data = pd.read_csv(file)\n",
    "    data.drop(labels='Unnamed: 0', axis=1, inplace=True)\n",
    "    #print(data.columns)\n",
    "\n",
    "    strain = data[\"Engineering Strain 3W\"]\n",
    "    stress_1w = data[\"Engineering Stress 1W\"]\n",
    "    stress_2w = data[\"Engineering Stress 2W\"]\n",
    "\n",
    "    stress_strain_fig.add_trace(go.Scatter(x=-strain, y=-stress_1w*1000, mode='lines', name=f\"{legends[idx]} 1w\", \n",
    "                                                        line=dict(width=3, dash=\"solid\", color=color[idx])))\n",
    "    stress_strain_fig.add_trace(go.Scatter(x=-strain, y=-stress_2w*1000, mode='lines', name=f\"{legends[idx]} 2W\", \n",
    "                                                        line=dict(width=3, dash=\"longdash\", color=color[idx])))\n",
    "\n",
    "    # Customize layout\n",
    "stress_strain_fig.update_layout(width=1500, height=800, plot_bgcolor=\"#F5F5F5\", paper_bgcolor=\"#FFFFFF\",\n",
    "                             title=dict(text=\"Engineering Stress vs Strain\", x=0.5, y=0.95, xanchor=\"center\",\n",
    "                                        font=dict(size=36, color=\"black\", family=\"Arial\")),\n",
    "                             xaxis=dict(title=dict(text=\"Strain (mm/mm)\", font=dict(family=\"Arial\", size=24, color=\"black\")),\n",
    "                                        tickfont=dict(size=24, color=\"black\", family=\"Arial\"), showgrid=True,\n",
    "                                        gridcolor=\"lightgrey\", gridwidth=1),\n",
    "                             yaxis=dict(title=dict(text=\"Stress (MPa)\", font=dict(family=\"Arial\", size=24, color=\"black\")),\n",
    "                                        tickfont=dict(size=20, color=\"black\", family=\"Arial\"), showgrid=True,\n",
    "                                        gridwidth=1, gridcolor=\"lightgrey\", zeroline=True, zerolinewidth=2, zerolinecolor=\"grey\"),\n",
    "                             legend=dict(title=\"Experiment\", x=1.0, y=1.0, font=dict(size=16, color=\"black\", family=\"Arial\"),\n",
    "                                         bgcolor=\"#FFFFFF\", bordercolor=\"black\", borderwidth=2))\n",
    "\n",
    "stress_strain_fig.add_annotation(\n",
    "        text=f\"Striker Size = 18 in <br>Striker Velocity ~ 25 m/s <br>Incident Stress ~ 500 MPa <br>Material = {material}\",\n",
    "        xref=\"paper\", yref=\"paper\", x=0, y=1, showarrow=False,\n",
    "        font=dict(size=16, color=\"black\", family=\"Arial\"), align=\"left\", bgcolor=\"white\", bordercolor=\"black\", borderwidth=2)\n",
    "\n",
    "# Display the interactive plot\n",
    "stress_strain_fig.write_html(os.path.join(fig_path, \"Eng_Stress_strain_study.html\"), include_plotlyjs='cdn')"
   ]
  },
  {
   "cell_type": "code",
   "execution_count": 155,
   "id": "2133f43a-0a64-411a-b257-cdff527cda62",
   "metadata": {},
   "outputs": [
    {
     "name": "stdout",
     "output_type": "stream",
     "text": [
      "../results/ST_1018\\ST1018_009\\ST1018_009_secondary_data.csv\n",
      "Index(['Time', 'Incident', 'Reflected', 'Transmitted', 'Front Displacement',\n",
      "       'Back Displacement', 'Front Force', 'Back Force', 'Strain Rate 3W',\n",
      "       'Strain Rate 1W', 'Engineering Strain 3W', 'Engineering Strain 1W',\n",
      "       'Engineering Stress 2W', 'Engineering Stress 1W', 'True Strain 3W',\n",
      "       'True Strain 1W', 'True Stress 2W', 'True Stress 1W'],\n",
      "      dtype='object')\n",
      "../results/ST_1018\\ST1018_010\\ST1018_010_secondary_data.csv\n",
      "Index(['Time', 'Incident', 'Reflected', 'Transmitted', 'Front Displacement',\n",
      "       'Back Displacement', 'Front Force', 'Back Force', 'Strain Rate 3W',\n",
      "       'Strain Rate 1W', 'Engineering Strain 3W', 'Engineering Strain 1W',\n",
      "       'Engineering Stress 2W', 'Engineering Stress 1W', 'True Strain 3W',\n",
      "       'True Strain 1W', 'True Stress 2W', 'True Stress 1W'],\n",
      "      dtype='object')\n",
      "../results/ST_1018\\ST1018_011\\ST1018_011_secondary_data.csv\n",
      "Index(['Time', 'Incident', 'Reflected', 'Transmitted', 'Front Displacement',\n",
      "       'Back Displacement', 'Front Force', 'Back Force', 'Strain Rate 3W',\n",
      "       'Strain Rate 1W', 'Engineering Strain 3W', 'Engineering Strain 1W',\n",
      "       'Engineering Stress 2W', 'Engineering Stress 1W', 'True Strain 3W',\n",
      "       'True Strain 1W', 'True Stress 2W', 'True Stress 1W'],\n",
      "      dtype='object')\n",
      "../results/ST_1018\\ST1018_012\\ST1018_012_secondary_data.csv\n",
      "Index(['Time', 'Incident', 'Reflected', 'Transmitted', 'Front Displacement',\n",
      "       'Back Displacement', 'Front Force', 'Back Force', 'Strain Rate 3W',\n",
      "       'Strain Rate 1W', 'Engineering Strain 3W', 'Engineering Strain 1W',\n",
      "       'Engineering Stress 2W', 'Engineering Stress 1W', 'True Strain 3W',\n",
      "       'True Strain 1W', 'True Stress 2W', 'True Stress 1W'],\n",
      "      dtype='object')\n"
     ]
    }
   ],
   "source": [
    "true_stress_strain_fig = go.Figure()\n",
    "\n",
    "for idx, file in enumerate(selected):\n",
    "    print(file)\n",
    "    data = pd.read_csv(file)\n",
    "    data.drop(labels='Unnamed: 0', axis=1, inplace=True)\n",
    "    print(data.columns)\n",
    "\n",
    "    strain = data[\"True Strain 3W\"]\n",
    "    stress_1w = data[\"Engineering Stress 1W\"] * (1 + data[\"True Strain 3W\"] )\n",
    "    stress_2w = data[\"Engineering Stress 2W\"] * (1 + data[\"True Strain 3W\"] )\n",
    "\n",
    "    true_stress_strain_fig.add_trace(go.Scatter(x=-strain, y=-stress_1w*1000, mode='lines', name=f\"{legends[idx]} 1w\", \n",
    "                                                        line=dict(width=3, dash=\"solid\", color=color[idx])))\n",
    "    true_stress_strain_fig.add_trace(go.Scatter(x=-strain, y=-stress_2w*1000, mode='lines', name=f\"{legends[idx]} 2W\", \n",
    "                                                        line=dict(width=3, dash=\"longdash\", color=color[idx])))\n",
    "\n",
    "    # Customize layout\n",
    "true_stress_strain_fig.update_layout(width=1500, height=800, plot_bgcolor=\"#F5F5F5\", paper_bgcolor=\"#FFFFFF\",\n",
    "                             title=dict(text=\"True Stress vs Strain\", x=0.5, y=0.95, xanchor=\"center\",\n",
    "                                        font=dict(size=36, color=\"black\", family=\"Arial\")),\n",
    "                             xaxis=dict(title=dict(text=\"True Strain (mm/mm)\", font=dict(family=\"Arial\", size=24, color=\"black\")),\n",
    "                                        tickfont=dict(size=24, color=\"black\", family=\"Arial\"), showgrid=True,\n",
    "                                        gridcolor=\"lightgrey\", gridwidth=1),\n",
    "                             yaxis=dict(title=dict(text=\"True Stress (MPa)\", font=dict(family=\"Arial\", size=24, color=\"black\")),\n",
    "                                        tickfont=dict(size=24, color=\"black\", family=\"Arial\"), showgrid=True,\n",
    "                                        gridwidth=1, gridcolor=\"lightgrey\", zeroline=True, zerolinewidth=2, zerolinecolor=\"grey\"),\n",
    "                             legend=dict(title=\"Experiment\", x=1.0, y=1.0, font=dict(size=16, color=\"black\", family=\"Arial\"),\n",
    "                                         bgcolor=\"#FFFFFF\", bordercolor=\"black\", borderwidth=2))\n",
    "\n",
    "true_stress_strain_fig.add_annotation(\n",
    "        text=f\"Striker Size = 18 in <br>Striker Velocity ~ 25 m/s <br>Incident Stress ~ 500 MPa <br>Material = {material}\",\n",
    "        xref=\"paper\", yref=\"paper\", x=0, y=1, showarrow=False,\n",
    "        font=dict(size=14, color=\"black\", family=\"Arial\"), align=\"left\", bgcolor=\"white\", bordercolor=\"black\", borderwidth=2)\n",
    "\n",
    "# Display the interactive plot\n",
    "true_stress_strain_fig.write_html(os.path.join(fig_path, \"True_Stress_strain_study.html\"), include_plotlyjs='cdn')"
   ]
  },
  {
   "cell_type": "code",
   "execution_count": 156,
   "id": "d01a2fcc-1c0b-4c0c-9b56-2b6fdd82003d",
   "metadata": {},
   "outputs": [
    {
     "name": "stdout",
     "output_type": "stream",
     "text": [
      "../results/ST_1018\\ST1018_009\\ST1018_009_secondary_data.csv\n",
      "../results/ST_1018\\ST1018_010\\ST1018_010_secondary_data.csv\n",
      "../results/ST_1018\\ST1018_011\\ST1018_011_secondary_data.csv\n",
      "../results/ST_1018\\ST1018_012\\ST1018_012_secondary_data.csv\n"
     ]
    }
   ],
   "source": [
    "eng_strain_rate = go.Figure()\n",
    "\n",
    "for idx, file in enumerate(selected):\n",
    "    print(file)\n",
    "    data = pd.read_csv(file)\n",
    "    data.drop(labels='Unnamed: 0', axis=1, inplace=True)\n",
    "    #print(data.columns)\n",
    "\n",
    "    strain = data[\"Time\"]\n",
    "    stress_1w = data['Strain Rate 1W']\n",
    "    stress_2w = data['Strain Rate 3W']\n",
    "\n",
    "    eng_strain_rate.add_trace(go.Scatter(x=strain, y=stress_1w*1000, mode='lines', name=f\"{legends[idx]} 1w\", \n",
    "                                                        line=dict(width=3, dash=\"solid\", color=color[idx])))\n",
    "    eng_strain_rate.add_trace(go.Scatter(x=strain, y=-stress_2w*1000, mode='lines', name=f\"{legends[idx]} 3W\", \n",
    "                                                        line=dict(width=3, dash=\"longdash\", color=color[idx])))\n",
    "    # Customize layout\n",
    "eng_strain_rate.update_layout(width=1500, height=800, plot_bgcolor=\"#F5F5F5\", paper_bgcolor=\"#FFFFFF\",\n",
    "                             title=dict(text=\"Strain Rate vs Time\", x=0.5, y=0.95, xanchor=\"center\",\n",
    "                                        font=dict(size=36, color=\"black\", family=\"Arial\")),\n",
    "                             xaxis=dict(title=dict(text=\"Time (ms)\", font=dict(family=\"Arial\", size=24, color=\"black\")),\n",
    "                                        tickfont=dict(size=24, color=\"black\", family=\"Arial\"), showgrid=True,\n",
    "                                        gridcolor=\"lightgrey\", gridwidth=1),\n",
    "                             yaxis=dict(title=dict(text=\"Strain Rate (1/s)\", font=dict(family=\"Arial\", size=24, color=\"black\")),\n",
    "                                        tickfont=dict(size=24, color=\"black\", family=\"Arial\"), showgrid=True,\n",
    "                                        gridwidth=1, gridcolor=\"lightgrey\", zeroline=True, zerolinewidth=2, zerolinecolor=\"grey\"),\n",
    "                             legend=dict(title=\"Experiment\", x=1.0, y=1.0, font=dict(size=20, color=\"black\", family=\"Arial\"),\n",
    "                                         bgcolor=\"#FFFFFF\", bordercolor=\"black\", borderwidth=2))\n",
    "\n",
    "eng_strain_rate.add_annotation(\n",
    "        text=f\"Striker Size = 18 in <br>Striker Velocity ~ 25 m/s <br>Incident Stress ~ 500 MPa <br>Material = {material}\",\n",
    "        xref=\"paper\", yref=\"paper\", x=0, y=1, showarrow=False,\n",
    "        font=dict(size=14, color=\"black\", family=\"Arial\"), align=\"left\", bgcolor=\"white\", bordercolor=\"black\", borderwidth=2)\n",
    "\n",
    "# Display the interactive plot\n",
    "eng_strain_rate.write_html(os.path.join(fig_path, \"eng_strain_rate_study.html\"), include_plotlyjs='cdn')"
   ]
  },
  {
   "cell_type": "code",
   "execution_count": 157,
   "id": "18051c17-3fbd-45e8-a592-50895fe0fdcd",
   "metadata": {},
   "outputs": [
    {
     "name": "stdout",
     "output_type": "stream",
     "text": [
      "../results/ST_1018\\ST1018_009\\ST1018_009_secondary_data.csv\n",
      "../results/ST_1018\\ST1018_010\\ST1018_010_secondary_data.csv\n",
      "../results/ST_1018\\ST1018_011\\ST1018_011_secondary_data.csv\n",
      "../results/ST_1018\\ST1018_012\\ST1018_012_secondary_data.csv\n"
     ]
    }
   ],
   "source": [
    "eng_strain = go.Figure()\n",
    "\n",
    "for idx, file in enumerate(selected):\n",
    "    print(file)\n",
    "    data = pd.read_csv(file)\n",
    "    data.drop(labels='Unnamed: 0', axis=1, inplace=True)\n",
    "    #print(data.columns)\n",
    "\n",
    "    strain = data[\"Time\"]\n",
    "    stress_1w = data['Engineering Strain 1W']\n",
    "    stress_2w = data['Engineering Strain 3W']\n",
    "\n",
    "    eng_strain.add_trace(go.Scatter(x=strain, y=stress_1w, mode='lines', name=f\"{legends[idx]} 1w\", \n",
    "                                                        line=dict(width=3, dash=\"solid\", color=color[idx])))\n",
    "    eng_strain.add_trace(go.Scatter(x=strain, y=-stress_2w, mode='lines', name=f\"{legends[idx]} 3W\", \n",
    "                                                        line=dict(width=3, dash=\"longdash\", color=color[idx])))\n",
    "    # Customize layout\n",
    "eng_strain.update_layout(width=1500, height=800, plot_bgcolor=\"#F5F5F5\", paper_bgcolor=\"#FFFFFF\",\n",
    "                             title=dict(text=\"Engineering Strain vs Time\", x=0.5, y=0.95, xanchor=\"center\",\n",
    "                                        font=dict(size=36, color=\"black\", family=\"Arial\")),\n",
    "                             xaxis=dict(title=dict(text=\"Time (ms)\", font=dict(family=\"Arial\", size=24, color=\"black\")),\n",
    "                                        tickfont=dict(size=24, color=\"black\", family=\"Arial\"), showgrid=True,\n",
    "                                        gridcolor=\"lightgrey\", gridwidth=1),\n",
    "                             yaxis=dict(title=dict(text=\"Strain (mm/mm)\", font=dict(family=\"Arial\", size=24, color=\"black\")),\n",
    "                                        tickfont=dict(size=24, color=\"black\", family=\"Arial\"), showgrid=True,\n",
    "                                        gridwidth=1, gridcolor=\"lightgrey\", zeroline=True, zerolinewidth=2, zerolinecolor=\"grey\"),\n",
    "                             legend=dict(title=\"Experiment\", x=1.0, y=1.0, font=dict(size=20, color=\"black\", family=\"Arial\"),\n",
    "                                         bgcolor=\"#FFFFFF\", bordercolor=\"black\", borderwidth=2))\n",
    "\n",
    "eng_strain.add_annotation(\n",
    "        text=f\"Striker Size = 18 in <br>Striker Velocity ~ 25 m/s <br>Incident Stress ~ 500 MPa <br>Material = {material}\",\n",
    "        xref=\"paper\", yref=\"paper\", x=0, y=1, showarrow=False,\n",
    "        font=dict(size=16, color=\"black\", family=\"Arial\"), align=\"left\", bgcolor=\"white\", bordercolor=\"black\", borderwidth=2)\n",
    "\n",
    "# Display the interactive plot\n",
    "eng_strain.write_html(os.path.join(fig_path, \"eng_strain_study.html\"), include_plotlyjs='cdn')"
   ]
  },
  {
   "cell_type": "code",
   "execution_count": 158,
   "id": "3fc1e0ca-4c37-4fb2-8530-050c7219f69a",
   "metadata": {},
   "outputs": [
    {
     "name": "stdout",
     "output_type": "stream",
     "text": [
      "../results/ST_1018\\ST1018_009\\ST1018_009_secondary_data.csv\n",
      "../results/ST_1018\\ST1018_010\\ST1018_010_secondary_data.csv\n",
      "../results/ST_1018\\ST1018_011\\ST1018_011_secondary_data.csv\n",
      "../results/ST_1018\\ST1018_012\\ST1018_012_secondary_data.csv\n"
     ]
    }
   ],
   "source": [
    "eng_stress = go.Figure()\n",
    "\n",
    "for idx, file in enumerate(selected):\n",
    "    print(file)\n",
    "    data = pd.read_csv(file)\n",
    "    data.drop(labels='Unnamed: 0', axis=1, inplace=True)\n",
    "    #print(data.columns)\n",
    "\n",
    "    strain = data[\"Time\"]\n",
    "    stress_1w = data['Engineering Stress 1W']\n",
    "    stress_2w = data['Engineering Stress 2W']\n",
    "\n",
    "    eng_stress.add_trace(go.Scatter(x=strain, y=-stress_1w*1000, mode='lines', name=f\"{legends[idx]} 1w\", \n",
    "                                                        line=dict(width=3, dash=\"solid\", color=color[idx])))\n",
    "    eng_stress.add_trace(go.Scatter(x=strain, y=-stress_2w*1000, mode='lines', name=f\"{legends[idx]} 2W\", \n",
    "                                                        line=dict(width=3, dash=\"longdash\", color=color[idx])))\n",
    "    # Customize layout\n",
    "eng_stress.update_layout(width=1500, height=800, plot_bgcolor=\"#F5F5F5\", paper_bgcolor=\"#FFFFFF\",\n",
    "                             title=dict(text=\"Engineering Stress vs Time\", x=0.5, y=0.95, xanchor=\"center\",\n",
    "                                        font=dict(size=36, color=\"black\", family=\"Arial\")),\n",
    "                             xaxis=dict(title=dict(text=\"Time (ms)\", font=dict(family=\"Arial\", size=24, color=\"black\")),\n",
    "                                        tickfont=dict(size=24, color=\"black\", family=\"Arial\"), showgrid=True,\n",
    "                                        gridcolor=\"lightgrey\", gridwidth=1),\n",
    "                             yaxis=dict(title=dict(text=\"Stress (MPa)\", font=dict(family=\"Arial\", size=24, color=\"black\")),\n",
    "                                        tickfont=dict(size=24, color=\"black\", family=\"Arial\"), showgrid=True,\n",
    "                                        gridwidth=1, gridcolor=\"lightgrey\", zeroline=True, zerolinewidth=2, zerolinecolor=\"grey\"),\n",
    "                             legend=dict(title=\"Experiment\", x=1.0, y=1.0, font=dict(size=20, color=\"black\", family=\"Arial\"),\n",
    "                                         bgcolor=\"#FFFFFF\", bordercolor=\"black\", borderwidth=2))\n",
    "\n",
    "eng_stress.add_annotation(\n",
    "        text=f\"Striker Size = 18 in <br>Striker Velocity ~ 25 m/s <br>Incident Stress ~ 500 MPa <br>Material = {material}\",\n",
    "        xref=\"paper\", yref=\"paper\", x=0, y=1, showarrow=False,\n",
    "        font=dict(size=16, color=\"black\", family=\"Arial\"), align=\"left\", bgcolor=\"white\", bordercolor=\"black\", borderwidth=2)\n",
    "\n",
    "# Display the interactive plot\n",
    "eng_stress.write_html(os.path.join(fig_path, \"eng_stress_study.html\"), include_plotlyjs='cdn')"
   ]
  },
  {
   "cell_type": "code",
   "execution_count": 159,
   "id": "499687ed-668d-4d41-840a-765177774906",
   "metadata": {},
   "outputs": [
    {
     "name": "stdout",
     "output_type": "stream",
     "text": [
      "../results/ST_1018\\ST1018_009\\ST1018_009_secondary_data.csv\n",
      "../results/ST_1018\\ST1018_010\\ST1018_010_secondary_data.csv\n",
      "../results/ST_1018\\ST1018_011\\ST1018_011_secondary_data.csv\n",
      "../results/ST_1018\\ST1018_012\\ST1018_012_secondary_data.csv\n"
     ]
    }
   ],
   "source": [
    "force_interphase = go.Figure()\n",
    "\n",
    "for idx, file in enumerate(selected):\n",
    "    print(file)\n",
    "    data = pd.read_csv(file)\n",
    "    data.drop(labels='Unnamed: 0', axis=1, inplace=True)\n",
    "    #print(data.columns)\n",
    "\n",
    "    strain = data[\"Time\"]\n",
    "    stress_1w = data['Front Force']\n",
    "    stress_2w = data['Back Force']\n",
    "\n",
    "    force_interphase.add_trace(go.Scatter(x=strain, y=-stress_1w*1000, mode='lines', name=f\"{legends[idx]} Front\", \n",
    "                                                        line=dict(width=3, dash=\"solid\", color=color[idx])))\n",
    "    force_interphase.add_trace(go.Scatter(x=strain, y=-stress_2w*1000, mode='lines', name=f\"{legends[idx]} Back\", \n",
    "                                                        line=dict(width=3, dash=\"longdash\", color=color[idx])))\n",
    "    # Customize layout\n",
    "force_interphase.update_layout(width=1500, height=800, plot_bgcolor=\"#F5F5F5\", paper_bgcolor=\"#FFFFFF\",\n",
    "                             title=dict(text=\"Force vs Time\", x=0.5, y=0.95, xanchor=\"center\",\n",
    "                                        font=dict(size=36, color=\"black\", family=\"Arial\")),\n",
    "                             xaxis=dict(title=dict(text=\"Time (ms)\", font=dict(family=\"Arial\", size=24, color=\"black\")),\n",
    "                                        tickfont=dict(size=24, color=\"black\", family=\"Arial\"), showgrid=True,\n",
    "                                        gridcolor=\"lightgrey\", gridwidth=1),\n",
    "                             yaxis=dict(title=dict(text=\"Force (kN)\", font=dict(family=\"Arial\", size=24, color=\"black\")),\n",
    "                                        tickfont=dict(size=24, color=\"black\", family=\"Arial\"), showgrid=True,\n",
    "                                        gridwidth=1, gridcolor=\"lightgrey\", zeroline=True, zerolinewidth=2, zerolinecolor=\"grey\"),\n",
    "                             legend=dict(title=\"Experiment\", x=1.0, y=1.0, font=dict(size=16, color=\"black\", family=\"Arial\"),\n",
    "                                         bgcolor=\"#FFFFFF\", bordercolor=\"black\", borderwidth=2))\n",
    "\n",
    "force_interphase.add_annotation(\n",
    "        text=f\"Striker Size = 18 in <br>Striker Velocity ~ 25 m/s <br>Incident Stress ~ 500 MPa <br>Material = {material}\",\n",
    "        xref=\"paper\", yref=\"paper\", x=0, y=1, showarrow=False,\n",
    "        font=dict(size=16, color=\"black\", family=\"Arial\"), align=\"left\", bgcolor=\"white\", bordercolor=\"black\", borderwidth=2)\n",
    "# Display the interactive plot\n",
    "force_interphase.write_html(os.path.join(fig_path, \"force_study.html\"), include_plotlyjs='cdn')"
   ]
  },
  {
   "cell_type": "code",
   "execution_count": null,
   "id": "428e6d99-157b-452d-98ab-93de5f69db60",
   "metadata": {},
   "outputs": [],
   "source": []
  },
  {
   "cell_type": "code",
   "execution_count": null,
   "id": "6cbb6436-b871-4f97-8f55-84fcfc9ca838",
   "metadata": {},
   "outputs": [],
   "source": []
  },
  {
   "cell_type": "code",
   "execution_count": null,
   "id": "2d1b90b3-a589-4470-9374-7e838db29e08",
   "metadata": {},
   "outputs": [],
   "source": []
  },
  {
   "cell_type": "code",
   "execution_count": null,
   "id": "19d91c18-b405-4f6e-9a37-b984f23e26ff",
   "metadata": {},
   "outputs": [],
   "source": []
  },
  {
   "cell_type": "code",
   "execution_count": null,
   "id": "acb26d98-9fe3-43e1-a9d6-0e38c0768412",
   "metadata": {},
   "outputs": [],
   "source": []
  },
  {
   "cell_type": "code",
   "execution_count": null,
   "id": "08fd842a-00be-41c5-b7b0-6d68ef14a137",
   "metadata": {},
   "outputs": [],
   "source": []
  }
 ],
 "metadata": {
  "kernelspec": {
   "display_name": "Python 3 (ipykernel)",
   "language": "python",
   "name": "python3"
  },
  "language_info": {
   "codemirror_mode": {
    "name": "ipython",
    "version": 3
   },
   "file_extension": ".py",
   "mimetype": "text/x-python",
   "name": "python",
   "nbconvert_exporter": "python",
   "pygments_lexer": "ipython3",
   "version": "3.10.12"
  }
 },
 "nbformat": 4,
 "nbformat_minor": 5
}
