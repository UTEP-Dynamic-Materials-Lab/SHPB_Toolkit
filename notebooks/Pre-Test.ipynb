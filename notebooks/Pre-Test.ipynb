{
 "cells": [
  {
   "cell_type": "code",
   "execution_count": 1,
   "id": "f105c9e2-2f9a-426a-a97e-219702a13d1e",
   "metadata": {},
   "outputs": [],
   "source": [
    "import numpy as np\n",
    "import pandas as pd \n",
    "import matplotlib.pyplot as plt"
   ]
  },
  {
   "cell_type": "code",
   "execution_count": 15,
   "id": "0d534948-1ff3-4270-a35e-24a5071e0051",
   "metadata": {},
   "outputs": [],
   "source": [
    "## Estimate the strain in transmission bar by guessing the flow stress σs of the sample.\n",
    "bar_diameter = 9.525\n",
    "bar_cross = 0.25 * np.pi * (bar_diameter**2) # mm^2\n",
    "specimen_diameter = 6.20 ## mm\n",
    "specimen_cross = 0.25 * np.pi * (specimen_diameter**2) # mm^2\n",
    "bar_elastic_modulus = 199.99 #\n",
    "specimen_estimate_flow_stress = 0.7\n",
    "\n",
    "striker_length = 304.8 ## mm \n",
    "strain_rate_desired = 1.5 ## 1/ms\n",
    "bar_wave_speed = 4953.23\n",
    "\n",
    "def epsilon_t(bar_cross, specimen_cross, bar_elastic_modulus, specimen_flow_stress): \n",
    "    et = (specimen_cross / bar_cross) * (specimen_flow_stress / bar_elastic_modulus)\n",
    "    return et\n",
    "\n",
    "et = epsilon_t(bar_cross, specimen_cross, bar_elastic_modulus, specimen_estimate_flow_stress)\n",
    "## Estimate the strain in incident bar due to the reflected signal for a given length of  sample Ls and a desired strain rate.\n",
    "\n",
    "def epsilon_r(striker_length, strain_rate, bar_wave_speed):\n",
    "    er = (striker_length * strain_rate) / (2*bar_wave_speed)\n",
    "    return er\n",
    "\n",
    "er = epsilon_r(striker_length, strain_rate_desired, bar_wave_speed)\n",
    "\n",
    "##Estimate the strain in incident bar due to the incident signal as the sum of  magnitudes of transmitted and reflected signals\n",
    "\n",
    "ei = np.abs(et)+ np.abs(er)\n",
    "\n",
    "## velociy needed\n",
    "\n",
    "striker_v = -2*bar_wave_speed*np.abs(ei)\n",
    "\n",
    "gap = striker_length * np.abs(ei)"
   ]
  },
  {
   "cell_type": "code",
   "execution_count": 7,
   "id": "3809268c-c92a-4ac1-a108-3edcf82ca343",
   "metadata": {},
   "outputs": [
    {
     "name": "stdout",
     "output_type": "stream",
     "text": [
      "-471.891348475016\n",
      "14.519059584875414\n"
     ]
    }
   ],
   "source": [
    "print(striker_v)\n",
    "print(gap)"
   ]
  },
  {
   "cell_type": "code",
   "execution_count": 16,
   "id": "516b1e1f-3666-4cfc-af36-a7999ddb84eb",
   "metadata": {},
   "outputs": [
    {
     "data": {
      "text/plain": [
       "0.047634709924131935"
      ]
     },
     "execution_count": 16,
     "metadata": {},
     "output_type": "execute_result"
    }
   ],
   "source": [
    "ei"
   ]
  },
  {
   "cell_type": "code",
   "execution_count": 17,
   "id": "75b67659-7ec0-459f-abd3-12350a26e89e",
   "metadata": {},
   "outputs": [
    {
     "data": {
      "text/plain": [
       "0.047634709924131935"
      ]
     },
     "execution_count": 17,
     "metadata": {},
     "output_type": "execute_result"
    }
   ],
   "source": [
    "ei = striker_v / (bar_wave_speed * -2)\n",
    "ei"
   ]
  },
  {
   "cell_type": "code",
   "execution_count": 18,
   "id": "c648f78e-d0ec-4ebe-96aa-542f836cde0c",
   "metadata": {},
   "outputs": [
    {
     "data": {
      "text/plain": [
       "14.519059584875414"
      ]
     },
     "execution_count": 18,
     "metadata": {},
     "output_type": "execute_result"
    }
   ],
   "source": [
    "gap = striker_length * ei\n",
    "gap"
   ]
  },
  {
   "cell_type": "code",
   "execution_count": null,
   "id": "6e35d779-ced1-4021-9fa1-4c7a065524ed",
   "metadata": {},
   "outputs": [],
   "source": []
  }
 ],
 "metadata": {
  "kernelspec": {
   "display_name": "Python 3 (ipykernel)",
   "language": "python",
   "name": "python3"
  },
  "language_info": {
   "codemirror_mode": {
    "name": "ipython",
    "version": 3
   },
   "file_extension": ".py",
   "mimetype": "text/x-python",
   "name": "python",
   "nbconvert_exporter": "python",
   "pygments_lexer": "ipython3",
   "version": "3.10.12"
  }
 },
 "nbformat": 4,
 "nbformat_minor": 5
}
