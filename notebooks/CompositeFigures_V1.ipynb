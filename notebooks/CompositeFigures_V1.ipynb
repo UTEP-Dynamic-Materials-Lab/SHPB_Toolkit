{
 "cells": [
  {
   "cell_type": "code",
   "execution_count": 1,
   "id": "03ebaf6c-283f-4629-b563-faf9c3cf9bbc",
   "metadata": {},
   "outputs": [],
   "source": [
    "import os, io\n",
    "import glob\n",
    "import plotly.graph_objects as go\n",
    "import numpy as np\n",
    "import pandas as pd\n",
    "import pywt"
   ]
  },
  {
   "cell_type": "code",
   "execution_count": 21,
   "id": "5f08ec81-9382-4aea-9d7b-ed55630d64fa",
   "metadata": {},
   "outputs": [
    {
     "name": "stdout",
     "output_type": "stream",
     "text": [
      "0 ../results/Composites\\SS316A356_001\\SS316A356_001_secondary_data.csv\n",
      "1 ../results/Composites\\SS316A356_002\\SS316A356_002_secondary_data.csv\n",
      "2 ../results/Composites\\SS316A356_003\\SS316A356_003_secondary_data.csv\n",
      "3 ../results/Composites\\SS316A356_004\\SS316A356_004_secondary_data.csv\n",
      "4 ../results/Composites\\SS316A356_005\\SS316A356_005_secondary_data.csv\n",
      "5 ../results/Composites\\SS316A356_006\\SS316A356_006_secondary_data.csv\n",
      "6 ../results/Composites\\SS316A356_007\\SS316A356_007_secondary_data.csv\n",
      "7 ../results/Composites\\SS316A356_008\\SS316A356_008_secondary_data.csv\n",
      "8 ../results/Composites\\SS316A356_009\\SS316A356_009_secondary_data.csv\n",
      "9 ../results/Composites\\SS316A356_010\\SS316A356_010_secondary_data.csv\n",
      "10 ../results/Composites\\SS316A356_011\\SS316A356_011_secondary_data.csv\n",
      "11 ../results/Composites\\SS316A356_012\\SS316A356_012_secondary_data.csv\n",
      "12 ../results/Composites\\SS316A356_013\\SS316A356_013_secondary_data.csv\n",
      "13 ../results/Composites\\SS316A356_014\\SS316A356_014_secondary_data.csv\n",
      "14 ../results/Composites\\SS316A356_015\\SS316A356_015_secondary_data.csv\n",
      "15 ../results/Composites\\SS316A356_016\\SS316A356_016_secondary_data.csv\n",
      "16 ../results/Composites\\SS316A356_017\\SS316A356_017_secondary_data.csv\n",
      "17 ../results/Composites\\SS316A356_018\\SS316A356_018_secondary_data.csv\n",
      "18 ../results/Composites\\SS316A356_019\\SS316A356_019_secondary_data.csv\n",
      "19 ../results/Composites\\SS316A356_020\\SS316A356_020_secondary_data.csv\n",
      "20 ../results/Composites\\SS316A356_021\\SS316A356_021_secondary_data.csv\n",
      "21 ../results/Composites\\SS316A356_022\\SS316A356_022_secondary_data.csv\n",
      "22 ../results/Composites\\SS316A356_023\\SS316A356_023_secondary_data.csv\n",
      "23 ../results/Composites\\SS316A356_024\\SS316A356_024_secondary_data.csv\n",
      "24 ../results/Composites\\SS316A356_025\\SS316A356_025_secondary_data.csv\n",
      "25 ../results/Composites\\SS316A356_026\\SS316A356_026_secondary_data.csv\n",
      "26 ../results/Composites\\SS316A356_027\\SS316A356_027_secondary_data.csv\n",
      "27 ../results/Composites\\SS316A356_028\\SS316A356_028_secondary_data.csv\n",
      "28 ../results/Composites\\SS316A356_029\\SS316A356_029_secondary_data.csv\n",
      "29 ../results/Composites\\SS316A356_030\\SS316A356_030_secondary_data.csv\n",
      "30 ../results/Composites\\SS316A356_031\\SS316A356_031_secondary_data.csv\n",
      "31 ../results/Composites\\SS316A356_032\\SS316A356_032_secondary_data.csv\n",
      "32 ../results/Composites\\SS316A356_033\\SS316A356_033_secondary_data.csv\n",
      "33 ../results/Composites\\SS316A356_034\\SS316A356_034_secondary_data.csv\n",
      "34 ../results/Composites\\SS316A356_036\\SS316A356_036_secondary_data.csv\n",
      "35 ../results/Composites\\SS316A356_037\\SS316A356_037_secondary_data.csv\n",
      "36 ../results/Composites\\SS316A356_038\\SS316A356_038_secondary_data.csv\n",
      "37 ../results/Composites\\SS316A356_039\\SS316A356_039_secondary_data.csv\n",
      "38 ../results/Composites\\SS316A356_040\\SS316A356_040_secondary_data.csv\n",
      "39 ../results/Composites\\SS316A356_041\\SS316A356_041_secondary_data.csv\n",
      "40 ../results/Composites\\SS316A356_042\\SS316A356_042_secondary_data.csv\n",
      "41 ../results/Composites\\SS316A356_043\\SS316A356_043_secondary_data.csv\n",
      "42 ../results/Composites\\SS316A356_044\\SS316A356_044_secondary_data.csv\n"
     ]
    }
   ],
   "source": [
    "for x, y in enumerate(composites):\n",
    "    print(x, y)"
   ]
  },
  {
   "cell_type": "code",
   "execution_count": 57,
   "id": "0ce3b02b-000f-475b-b268-fc4a5164e352",
   "metadata": {},
   "outputs": [],
   "source": [
    "ss316_paths = glob.glob(\"../results/SS316_3D/**/*secondary_data.csv\", recursive = True)\n",
    "SS316_12in = [ss316_paths[x] for x in [-2,-1]]\n",
    "SS316_18in = [ss316_paths[x] for x in [15, 16, 17, 18]]\n",
    "\n",
    "A356_paths = glob.glob(\"../results/A356/**/*secondary_data.csv\", recursive = True)\n",
    "A356_12in = [A356_paths[x] for x in [4,5,6,7,8]]\n",
    "A356_18in = [A356_paths[x] for x in [0,1,10,11,12,13,14]]\n",
    "\n",
    "composites = glob.glob(\"../results/Composites/**/*secondary_data.csv\", recursive = True)\n",
    "SC13_12in = [composites[x] for x in [7,12,13,14,15]]\n",
    "SC13_18in = [composites[x] for x in [24,32,33,34]]\n",
    "SC23_12in = [composites[x] for x in [8,11,19,20]]\n",
    "SC23_18in = [composites[x] for x in [26,39,40,41,42]]\n",
    "GD13_12in = [composites[x] for x in [9,16,17,18]]\n",
    "GD13_18in = [composites[x] for x in [25,28,29,30,31]]\n",
    "GD23_12in = [composites[x] for x in [10, 21, 22,23]]\n",
    "GD23_18in = [composites[x] for x in [6,27,35,36,37,38]]\n",
    "\n",
    "file_lists = [SS316_12in, A356_12in, SC13_12in, SC23_12in, GD13_12in, GD23_12in]\n",
    "#file_lists = [SS316_18in, A356_18in, SC13_18in, SC23_18in, GD13_18in, GD23_18in]\n",
    "legend_idx = [0,1,2,3,4,5]\n",
    "legends = [\"SS316\", \"A356\", \"SS316-A356 SC 0.33\", \"SS316-A356 SC 0.66\", \"SS316-A356 GD 0.33\", \"SS316-A356 GD 0.66\"]\n",
    "line_mode = [\"solid\", \"solid\", \"solid\", \"solid\", \"solid\", \"solid\"]\n",
    "color = [\"blue\", \"red\", \"orange\", \"cornflowerblue\", \"coral\", \"green\"]\n",
    "\n",
    "\n",
    "fig_path = \"../results/CompositeFigures_V1_12in\" # Change this!\n",
    "os.makedirs(fig_path, exist_ok=True)"
   ]
  },
  {
   "cell_type": "code",
   "execution_count": null,
   "id": "ede44aa7-e76e-4c18-8f9d-459fc7cbe32f",
   "metadata": {},
   "outputs": [],
   "source": []
  },
  {
   "cell_type": "code",
   "execution_count": 58,
   "id": "bb29d222-75bf-4321-9a6b-e82ab8e4795e",
   "metadata": {},
   "outputs": [],
   "source": [
    "import os\n",
    "import numpy as np\n",
    "import pandas as pd\n",
    "import matplotlib.pyplot as plt\n",
    "from scipy.interpolate import CubicSpline\n",
    "\n",
    "def det_average_curve(files, x , y, x_coeff, y_coeff): \n",
    "    \n",
    "    all_curves = []  # List to store interpolated stress curves\n",
    "    \n",
    "    # First pass to find the common strain range\n",
    "    x_min = 0\n",
    "    x_max = np.inf\n",
    "    \n",
    "    for file in files:\n",
    "        data = pd.read_csv(file)\n",
    "    \n",
    "        x_vals = data[x].values * x_coeff\n",
    "        y_vals = data[y].values * y_coeff \n",
    "    \n",
    "        x_abs = np.abs(x_vals)  # Work with positive values\n",
    "        y_abs = np.abs(y_vals)  # Work with positive values too\n",
    "    \n",
    "        # Update common maximum x_val\n",
    "        x_max = min(x_max, x_abs.max())\n",
    "    \n",
    "    # Define a common fine strain grid\n",
    "    xs = np.arange(0, x_max, 1e-5) # 20K points approx\n",
    "    print(f\"Lenght of fitted spline {xs.shape[0]}\")\n",
    "    \n",
    "    # Second pass to interpolate\n",
    "    for file in files:\n",
    "        data = pd.read_csv(file)\n",
    "    \n",
    "        x_vals = data[x].values * x_coeff\n",
    "        y_vals = data[y].values * y_coeff \n",
    "    \n",
    "        x_abs = np.abs(x_vals)  # Work with positive values\n",
    "        y_abs = np.abs(y_vals)  # Work with positive values too\n",
    "    \n",
    "        # --- Fix: sort and remove duplicates ---\n",
    "        #plt.plot(x_vals, y_vals, label=os.path.basename(file))\n",
    "        sort_idx = np.argsort(x_abs)\n",
    "        x_abs = x_abs[sort_idx]\n",
    "        y_abs = y_abs[sort_idx]\n",
    "    \n",
    "        unique_x, unique_indices = np.unique(x_abs, return_index=True)\n",
    "        unique_y = y_abs[unique_indices]\n",
    "    \n",
    "        # Safe interpolation\n",
    "        cs = CubicSpline(unique_x, unique_y)\n",
    "        interpolated_y = cs(xs)\n",
    "        all_curves.append(interpolated_y)\n",
    "    \n",
    "        #Plot each curve\n",
    "        \n",
    "        #plt.plot(unique_x, unique_y, label=os.path.basename(file), linestyle=\"--\")\n",
    "    \n",
    "    \n",
    "    # Compute the average curve\n",
    "    all_curves = np.array(all_curves)\n",
    "    average_y = np.mean(all_curves, axis=0)\n",
    "    \n",
    "    # Plot average\n",
    "    #plt.plot(xs, average_y, color='black', linewidth=3, label=\"Average Curve\")\n",
    "    \n",
    "    #plt.xlabel(\"Engineering Strain\")\n",
    "    #plt.ylabel(\"Engineering Stress (MPa)\")\n",
    "    #plt.legend()\n",
    "    #plt.grid(True)\n",
    "    plt.show()\n",
    "    return xs, average_y\n",
    "\n"
   ]
  },
  {
   "cell_type": "code",
   "execution_count": 59,
   "id": "8e61fc57-004a-4fc7-87cf-d1e380a64e1f",
   "metadata": {},
   "outputs": [
    {
     "name": "stdout",
     "output_type": "stream",
     "text": [
      "Lenght of fitted spline 21161\n"
     ]
    }
   ],
   "source": [
    "ave_strain, ave_stress = det_average_curve(SS316_18in, \"Engineering Strain 3W\" , \"Engineering Stress 1W\", 1, 1e3)  "
   ]
  },
  {
   "cell_type": "code",
   "execution_count": 60,
   "id": "c536276d-8891-481b-b902-aecad8f700f9",
   "metadata": {},
   "outputs": [
    {
     "name": "stdout",
     "output_type": "stream",
     "text": [
      "Lenght of fitted spline 22578\n",
      "Lenght of fitted spline 20737\n",
      "Lenght of fitted spline 18289\n",
      "Lenght of fitted spline 19515\n",
      "Lenght of fitted spline 20613\n",
      "Lenght of fitted spline 20644\n"
     ]
    }
   ],
   "source": [
    "# Engineering Stress-Strain Graph\n",
    "stress_strain_fig = go.Figure()\n",
    "\n",
    "for idx, files in enumerate(file_lists):\n",
    "    \n",
    "        ave_strain, ave_stress = det_average_curve(files, \"Engineering Strain 3W\" , \"Engineering Stress 1W\", 1, 1000)  \n",
    "        \n",
    "        stress_strain_fig.add_trace(go.Scatter(x=ave_strain, y=ave_stress, mode='lines', name=legends[legend_idx[idx]], \n",
    "                                                            line=dict(width=5, dash=line_mode[idx], color=color[legend_idx[idx]])))\n",
    "        \n",
    "    # Customize layout\n",
    "stress_strain_fig.update_layout(width=1500, height=800, plot_bgcolor=\"#F5F5F5\", paper_bgcolor=\"#FFFFFF\",\n",
    "                             title=dict(text=\"Engineering Stress vs Strain\", x=0.5, y=0.95, xanchor=\"center\",\n",
    "                                        font=dict(size=36, color=\"black\", family=\"Arial\")),\n",
    "                             xaxis=dict(title=dict(text=\"Strain (mm/mm)\", font=dict(family=\"Arial\", size=24, color=\"black\")),\n",
    "                                        tickfont=dict(size=24, color=\"black\", family=\"Arial\"), showgrid=True,\n",
    "                                        gridcolor=\"lightgrey\", gridwidth=1),\n",
    "                             yaxis=dict(title=dict(text=\"Stress (MPa)\", font=dict(family=\"Arial\", size=24, color=\"black\")),\n",
    "                                        tickfont=dict(size=24, color=\"black\", family=\"Arial\"), showgrid=True,\n",
    "                                        gridwidth=1, gridcolor=\"lightgrey\", zeroline=True, zerolinewidth=2, zerolinecolor=\"grey\"),\n",
    "                             legend=dict(title=\"Experiment\", x=1.0, y=1.0, font=dict(size=16, color=\"black\", family=\"Arial\"),\n",
    "                                         bgcolor=\"#FFFFFF\", bordercolor=\"black\", borderwidth=2))\n",
    "\n",
    "stress_strain_fig.update_xaxes(range=[0, 0.45])\n",
    "stress_strain_fig.update_yaxes(range=[0, 1500])\n",
    "# Display the interactive plot\n",
    "stress_strain_fig.write_html(os.path.join(fig_path, \"Eng_Stress_strain_study.html\"), include_plotlyjs='cdn')\n"
   ]
  },
  {
   "cell_type": "code",
   "execution_count": 61,
   "id": "2133f43a-0a64-411a-b257-cdff527cda62",
   "metadata": {},
   "outputs": [
    {
     "name": "stdout",
     "output_type": "stream",
     "text": [
      "Lenght of fitted spline 25589\n",
      "Lenght of fitted spline 23240\n",
      "Lenght of fitted spline 20198\n",
      "Lenght of fitted spline 21710\n",
      "Lenght of fitted spline 23083\n",
      "Lenght of fitted spline 23123\n"
     ]
    }
   ],
   "source": [
    "true_stress_strain_fig = go.Figure()\n",
    "\n",
    "for idx, files in enumerate(file_lists):\n",
    "    \n",
    "        ave_strain, ave_stress = det_average_curve(files, \"True Strain 3W\" , \"True Stress 1W\", 1, 1000)  \n",
    "    \n",
    "        true_stress_strain_fig.add_trace(go.Scatter(x=ave_strain, y=ave_stress, mode='lines',name=legends[legend_idx[idx]], \n",
    "                                                            line=dict(width=5, dash=line_mode[idx], color=color[legend_idx[idx]])))\n",
    "\n",
    "    # Customize layout\n",
    "true_stress_strain_fig.update_layout(width=1500, height=800, plot_bgcolor=\"#F5F5F5\", paper_bgcolor=\"#FFFFFF\",\n",
    "                             title=dict(text=\"True Stress vs Strain\", x=0.5, y=0.95, xanchor=\"center\",\n",
    "                                        font=dict(size=36, color=\"black\", family=\"Arial\")),\n",
    "                             xaxis=dict(title=dict(text=\"True Strain (mm/mm)\", font=dict(family=\"Arial\", size=24, color=\"black\")),\n",
    "                                        tickfont=dict(size=24, color=\"black\", family=\"Arial\"), showgrid=True,\n",
    "                                        gridcolor=\"lightgrey\", gridwidth=1),\n",
    "                             yaxis=dict(title=dict(text=\"True Stress (MPa)\", font=dict(family=\"Arial\", size=24, color=\"black\")),\n",
    "                                        tickfont=dict(size=24, color=\"black\", family=\"Arial\"), showgrid=True,\n",
    "                                        gridwidth=1, gridcolor=\"lightgrey\", zeroline=True, zerolinewidth=2, zerolinecolor=\"grey\"),\n",
    "                             legend=dict(title=\"Experiment\", x=1.0, y=1.0, font=dict(size=16, color=\"black\", family=\"Arial\"),\n",
    "                                         bgcolor=\"#FFFFFF\", bordercolor=\"black\", borderwidth=2))\n",
    "\n",
    "true_stress_strain_fig.update_xaxes(range=[0, 0.25])\n",
    "true_stress_strain_fig.update_yaxes(range=[0, 1400])\n",
    "\n",
    "true_stress_strain_fig.update_xaxes(range=[0, 0.6])\n",
    "true_stress_strain_fig.update_yaxes(range=[0, 1500])\n",
    "\n",
    "true_stress_strain_fig.write_html(os.path.join(fig_path, \"True_Stress_strain_study.html\"), include_plotlyjs='cdn')\n",
    "\n",
    "\n"
   ]
  },
  {
   "cell_type": "code",
   "execution_count": 62,
   "id": "d01a2fcc-1c0b-4c0c-9b56-2b6fdd82003d",
   "metadata": {},
   "outputs": [
    {
     "name": "stdout",
     "output_type": "stream",
     "text": [
      "Lenght of fitted spline 10845\n",
      "Lenght of fitted spline 6759\n",
      "Lenght of fitted spline 6644\n",
      "Lenght of fitted spline 7432\n",
      "Lenght of fitted spline 7213\n",
      "Lenght of fitted spline 7346\n"
     ]
    }
   ],
   "source": [
    "eng_strain_rate = go.Figure()\n",
    "\n",
    "for idx, files in enumerate(file_lists):\n",
    "        ave_time, ave_sr = det_average_curve(files, \"Time\" , \"Strain Rate 3W\", 1, 1000)  \n",
    "   \n",
    "        eng_strain_rate.add_trace(go.Scatter(x=ave_time, y=ave_sr, mode='lines',name=legends[legend_idx[idx]], \n",
    "                                                            line=dict(width=5, dash=line_mode[idx], color=color[legend_idx[idx]])))\n",
    "    # Customize layout\n",
    "eng_strain_rate.update_layout(width=1500, height=800, plot_bgcolor=\"#F5F5F5\", paper_bgcolor=\"#FFFFFF\",\n",
    "                             title=dict(text=\"Strain Rate vs Time\", x=0.5, y=0.95, xanchor=\"center\",\n",
    "                                        font=dict(size=36, color=\"black\", family=\"Arial\")),\n",
    "                             xaxis=dict(title=dict(text=\"Time (ms)\", font=dict(family=\"Arial\", size=24, color=\"black\")),\n",
    "                                        tickfont=dict(size=24, color=\"black\", family=\"Arial\"), showgrid=True,\n",
    "                                        gridcolor=\"lightgrey\", gridwidth=1),\n",
    "                             yaxis=dict(title=dict(text=\"Strain Rate (1/s)\", font=dict(family=\"Arial\", size=24, color=\"black\")),\n",
    "                                        tickfont=dict(size=24, color=\"black\", family=\"Arial\"), showgrid=True,\n",
    "                                        gridwidth=1, gridcolor=\"lightgrey\", zeroline=True, zerolinewidth=2, zerolinecolor=\"grey\"),\n",
    "                             legend=dict(title=\"Experiment\", x=1.0, y=1.0, font=dict(size=20, color=\"black\", family=\"Arial\"),\n",
    "                                         bgcolor=\"#FFFFFF\", bordercolor=\"black\", borderwidth=2))\n",
    "eng_strain_rate.update_xaxes(range=[0, 0.09])\n",
    "eng_strain_rate.update_yaxes(range=[0, 5000])\n",
    "\n",
    "# Display the interactive plot\n",
    "eng_strain_rate.write_html(os.path.join(fig_path, \"eng_strain_rate_study.html\"), include_plotlyjs='cdn')"
   ]
  },
  {
   "cell_type": "code",
   "execution_count": 63,
   "id": "062d6647-49f4-4c23-9369-90ac6df31f41",
   "metadata": {},
   "outputs": [
    {
     "name": "stdout",
     "output_type": "stream",
     "text": [
      "Lenght of fitted spline 10845\n",
      "Lenght of fitted spline 6759\n",
      "Lenght of fitted spline 6644\n",
      "Lenght of fitted spline 7432\n",
      "Lenght of fitted spline 7213\n",
      "Lenght of fitted spline 7346\n"
     ]
    }
   ],
   "source": [
    "true_strain_rate = go.Figure()\n",
    "\n",
    "for idx, files in enumerate(file_lists):\n",
    "    ave_time, ave_sr = det_average_curve(files, \"Time\" , \"True Strain Rate 3W\", 1, 1000)  \n",
    "   \n",
    "    true_strain_rate.add_trace(go.Scatter(x=ave_time, y=ave_sr, mode='lines',name=legends[legend_idx[idx]], \n",
    "                                                            line=dict(width=5, dash=line_mode[idx], color=color[legend_idx[idx]])))\n",
    "    # Customize layout\n",
    "true_strain_rate.update_layout(width=1500, height=800, plot_bgcolor=\"#F5F5F5\", paper_bgcolor=\"#FFFFFF\",\n",
    "                             title=dict(text=\"True Strain Rate vs Time\", x=0.5, y=0.95, xanchor=\"center\",\n",
    "                                        font=dict(size=36, color=\"black\", family=\"Arial\")),\n",
    "                             xaxis=dict(title=dict(text=\"Time (ms)\", font=dict(family=\"Arial\", size=24, color=\"black\")),\n",
    "                                        tickfont=dict(size=24, color=\"black\", family=\"Arial\"), showgrid=True,\n",
    "                                        gridcolor=\"lightgrey\", gridwidth=1),\n",
    "                             yaxis=dict(title=dict(text=\"True Strain Rate (1/s)\", font=dict(family=\"Arial\", size=24, color=\"black\")),\n",
    "                                        tickfont=dict(size=24, color=\"black\", family=\"Arial\"), showgrid=True,\n",
    "                                        gridwidth=1, gridcolor=\"lightgrey\", zeroline=True, zerolinewidth=2, zerolinecolor=\"grey\"),\n",
    "                             legend=dict(title=\"Experiment\", x=1.0, y=1.0, font=dict(size=20, color=\"black\", family=\"Arial\"),\n",
    "                                         bgcolor=\"#FFFFFF\", bordercolor=\"black\", borderwidth=2))\n",
    "\n",
    "true_strain_rate.update_xaxes(range=[0, 0.09])\n",
    "true_strain_rate.update_yaxes(range=[0, 1800])\n",
    "\n",
    "true_strain_rate.update_xaxes(range=[0, 0.12])\n",
    "true_strain_rate.update_yaxes(range=[0, 1800])\n",
    "\n",
    "# Display the interactive plot\n",
    "true_strain_rate.write_html(os.path.join(fig_path, \"true_strain_rate_study.html\"), include_plotlyjs='cdn')"
   ]
  },
  {
   "cell_type": "code",
   "execution_count": 64,
   "id": "18051c17-3fbd-45e8-a592-50895fe0fdcd",
   "metadata": {},
   "outputs": [
    {
     "name": "stdout",
     "output_type": "stream",
     "text": [
      "Lenght of fitted spline 10845\n",
      "Lenght of fitted spline 6759\n",
      "Lenght of fitted spline 6644\n",
      "Lenght of fitted spline 7432\n",
      "Lenght of fitted spline 7213\n",
      "Lenght of fitted spline 7346\n"
     ]
    }
   ],
   "source": [
    "eng_strain = go.Figure()\n",
    "\n",
    "for idx, files in enumerate(file_lists):\n",
    "    ave_time, ave_strain = det_average_curve(files, \"Time\" , \"Engineering Strain 3W\", 1, 1)  \n",
    "   \n",
    "    eng_strain.add_trace(go.Scatter(x=ave_time, y=ave_strain, mode='lines',name=legends[legend_idx[idx]], \n",
    "                                                            line=dict(width=5, dash=line_mode[idx], color=color[legend_idx[idx]])))\n",
    "\n",
    "    # Customize layout\n",
    "eng_strain.update_layout(width=1500, height=800, plot_bgcolor=\"#F5F5F5\", paper_bgcolor=\"#FFFFFF\",\n",
    "                             title=dict(text=\"Engineering Strain vs Time\", x=0.5, y=0.95, xanchor=\"center\",\n",
    "                                        font=dict(size=36, color=\"black\", family=\"Arial\")),\n",
    "                             xaxis=dict(title=dict(text=\"Time (ms)\", font=dict(family=\"Arial\", size=24, color=\"black\")),\n",
    "                                        tickfont=dict(size=24, color=\"black\", family=\"Arial\"), showgrid=True,\n",
    "                                        gridcolor=\"lightgrey\", gridwidth=1),\n",
    "                             yaxis=dict(title=dict(text=\"Strain (mm/mm)\", font=dict(family=\"Arial\", size=24, color=\"black\")),\n",
    "                                        tickfont=dict(size=24, color=\"black\", family=\"Arial\"), showgrid=True,\n",
    "                                        gridwidth=1, gridcolor=\"lightgrey\", zeroline=True, zerolinewidth=2, zerolinecolor=\"grey\"),\n",
    "                             legend=dict(title=\"Experiment\", x=1.0, y=1.0, font=dict(size=20, color=\"black\", family=\"Arial\"),\n",
    "                                         bgcolor=\"#FFFFFF\", bordercolor=\"black\", borderwidth=2))\n",
    "\n",
    "eng_strain.write_html(os.path.join(fig_path, \"eng_strain_study.html\"), include_plotlyjs='cdn')"
   ]
  },
  {
   "cell_type": "code",
   "execution_count": 65,
   "id": "c21cc832-180b-415b-bf5a-648cd216266f",
   "metadata": {},
   "outputs": [
    {
     "name": "stdout",
     "output_type": "stream",
     "text": [
      "Lenght of fitted spline 10845\n",
      "Lenght of fitted spline 6759\n",
      "Lenght of fitted spline 6644\n",
      "Lenght of fitted spline 7432\n",
      "Lenght of fitted spline 7213\n",
      "Lenght of fitted spline 7346\n"
     ]
    }
   ],
   "source": [
    "true_strain = go.Figure()\n",
    "\n",
    "for idx, files in enumerate(file_lists):\n",
    "    ave_time, ave_strain = det_average_curve(files, \"Time\" , \"True Strain 3W\", 1, 1)  \n",
    "   \n",
    "    true_strain.add_trace(go.Scatter(x=ave_time, y=ave_strain, mode='lines',name=legends[legend_idx[idx]], \n",
    "                                                            line=dict(width=5, dash=line_mode[idx], color=color[legend_idx[idx]])))\n",
    "    # Customize layout\n",
    "true_strain.update_layout(width=1500, height=800, plot_bgcolor=\"#F5F5F5\", paper_bgcolor=\"#FFFFFF\",\n",
    "                             title=dict(text=\"True Strain vs Time\", x=0.5, y=0.95, xanchor=\"center\",\n",
    "                                        font=dict(size=36, color=\"black\", family=\"Arial\")),\n",
    "                             xaxis=dict(title=dict(text=\"Time (ms)\", font=dict(family=\"Arial\", size=24, color=\"black\")),\n",
    "                                        tickfont=dict(size=24, color=\"black\", family=\"Arial\"), showgrid=True,\n",
    "                                        gridcolor=\"lightgrey\", gridwidth=1),\n",
    "                             yaxis=dict(title=dict(text=\"Strain (mm/mm)\", font=dict(family=\"Arial\", size=24, color=\"black\")),\n",
    "                                        tickfont=dict(size=24, color=\"black\", family=\"Arial\"), showgrid=True,\n",
    "                                        gridwidth=1, gridcolor=\"lightgrey\", zeroline=True, zerolinewidth=2, zerolinecolor=\"grey\"),\n",
    "                             legend=dict(title=\"Experiment\", x=1.0, y=1.0, font=dict(size=20, color=\"black\", family=\"Arial\"),\n",
    "                                         bgcolor=\"#FFFFFF\", bordercolor=\"black\", borderwidth=2))\n",
    "\n",
    "# Display the interactive plot\n",
    "true_strain.write_html(os.path.join(fig_path, \"true_strain_study.html\"), include_plotlyjs='cdn')"
   ]
  },
  {
   "cell_type": "code",
   "execution_count": 66,
   "id": "3fc1e0ca-4c37-4fb2-8530-050c7219f69a",
   "metadata": {},
   "outputs": [
    {
     "name": "stdout",
     "output_type": "stream",
     "text": [
      "Lenght of fitted spline 10845\n",
      "Lenght of fitted spline 6759\n",
      "Lenght of fitted spline 6644\n",
      "Lenght of fitted spline 7432\n",
      "Lenght of fitted spline 7213\n",
      "Lenght of fitted spline 7346\n"
     ]
    }
   ],
   "source": [
    "eng_stress = go.Figure()\n",
    "\n",
    "for idx, files in enumerate(file_lists):\n",
    "    ave_time, ave_stress = det_average_curve(files, \"Time\" , \"Engineering Stress 1W\", 1, 1000)  \n",
    "   \n",
    "    eng_stress.add_trace(go.Scatter(x=ave_time, y=ave_stress, mode='lines',name=legends[legend_idx[idx]], \n",
    "                                                            line=dict(width=5, dash=line_mode[idx], color=color[legend_idx[idx]])))\n",
    "    # Customize layout\n",
    "eng_stress.update_layout(width=1500, height=800, plot_bgcolor=\"#F5F5F5\", paper_bgcolor=\"#FFFFFF\",\n",
    "                             title=dict(text=\"Engineering Stress vs Time\", x=0.5, y=0.95, xanchor=\"center\",\n",
    "                                        font=dict(size=36, color=\"black\", family=\"Arial\")),\n",
    "                             xaxis=dict(title=dict(text=\"Time (ms)\", font=dict(family=\"Arial\", size=24, color=\"black\")),\n",
    "                                        tickfont=dict(size=24, color=\"black\", family=\"Arial\"), showgrid=True,\n",
    "                                        gridcolor=\"lightgrey\", gridwidth=1),\n",
    "                             yaxis=dict(title=dict(text=\"Stress (MPa)\", font=dict(family=\"Arial\", size=24, color=\"black\")),\n",
    "                                        tickfont=dict(size=24, color=\"black\", family=\"Arial\"), showgrid=True,\n",
    "                                        gridwidth=1, gridcolor=\"lightgrey\", zeroline=True, zerolinewidth=2, zerolinecolor=\"grey\"),\n",
    "                             legend=dict(title=\"Experiment\", x=1.0, y=1.0, font=dict(size=20, color=\"black\", family=\"Arial\"),\n",
    "                                         bgcolor=\"#FFFFFF\", bordercolor=\"black\", borderwidth=2))\n",
    "\n",
    "# Display the interactive plot\n",
    "eng_stress.write_html(os.path.join(fig_path, \"eng_stress_study.html\"), include_plotlyjs='cdn')"
   ]
  },
  {
   "cell_type": "code",
   "execution_count": 67,
   "id": "aa6b0332-b422-4f00-9b29-06370fcc8eff",
   "metadata": {},
   "outputs": [
    {
     "name": "stdout",
     "output_type": "stream",
     "text": [
      "Lenght of fitted spline 10845\n",
      "Lenght of fitted spline 6759\n",
      "Lenght of fitted spline 6644\n",
      "Lenght of fitted spline 7432\n",
      "Lenght of fitted spline 7213\n",
      "Lenght of fitted spline 7346\n"
     ]
    }
   ],
   "source": [
    "true_stress = go.Figure()\n",
    "\n",
    "for idx, files in enumerate(file_lists):\n",
    "    ave_time, ave_stress = det_average_curve(files, \"Time\" , \"True Stress 1W\", 1, 1000)  \n",
    "   \n",
    "    true_stress.add_trace(go.Scatter(x=ave_time, y=ave_stress, mode='lines',name=legends[legend_idx[idx]], \n",
    "                                                            line=dict(width=5, dash=line_mode[idx], color=color[legend_idx[idx]])))\n",
    "    # Customize layout\n",
    "true_stress.update_layout(width=1500, height=800, plot_bgcolor=\"#F5F5F5\", paper_bgcolor=\"#FFFFFF\",\n",
    "                             title=dict(text=\"True Stress vs Time\", x=0.5, y=0.95, xanchor=\"center\",\n",
    "                                        font=dict(size=36, color=\"black\", family=\"Arial\")),\n",
    "                             xaxis=dict(title=dict(text=\"Time (ms)\", font=dict(family=\"Arial\", size=24, color=\"black\")),\n",
    "                                        tickfont=dict(size=24, color=\"black\", family=\"Arial\"), showgrid=True,\n",
    "                                        gridcolor=\"lightgrey\", gridwidth=1),\n",
    "                             yaxis=dict(title=dict(text=\"True Stress (MPa)\", font=dict(family=\"Arial\", size=24, color=\"black\")),\n",
    "                                        tickfont=dict(size=24, color=\"black\", family=\"Arial\"), showgrid=True,\n",
    "                                        gridwidth=1, gridcolor=\"lightgrey\", zeroline=True, zerolinewidth=2, zerolinecolor=\"grey\"),\n",
    "                             legend=dict(title=\"Experiment\", x=1.0, y=1.0, font=dict(size=20, color=\"black\", family=\"Arial\"),\n",
    "                                         bgcolor=\"#FFFFFF\", bordercolor=\"black\", borderwidth=2))\n",
    "\n",
    "# Display the interactive plot\n",
    "true_stress.write_html(os.path.join(fig_path, \"true_stress_study.html\"), include_plotlyjs='cdn')"
   ]
  },
  {
   "cell_type": "code",
   "execution_count": 68,
   "id": "499687ed-668d-4d41-840a-765177774906",
   "metadata": {},
   "outputs": [
    {
     "name": "stdout",
     "output_type": "stream",
     "text": [
      "Lenght of fitted spline 10845\n",
      "Lenght of fitted spline 6759\n",
      "Lenght of fitted spline 6644\n",
      "Lenght of fitted spline 7432\n",
      "Lenght of fitted spline 7213\n",
      "Lenght of fitted spline 7346\n"
     ]
    }
   ],
   "source": [
    "force_interphase = go.Figure()\n",
    "\n",
    "for idx, files in enumerate(file_lists):\n",
    "    ave_time, ave_stress = det_average_curve(files, \"Time\" , \"Engineering Stress 1W\", 1, 1000)  \n",
    "   \n",
    "    force_interphase.add_trace(go.Scatter(x=ave_time, y=ave_stress, mode='lines',name=legends[legend_idx[idx]], \n",
    "                                                            line=dict(width=5, dash=line_mode[idx], color=color[legend_idx[idx]])))\n",
    "    # Customize layout\n",
    "force_interphase.update_layout(width=1500, height=800, plot_bgcolor=\"#F5F5F5\", paper_bgcolor=\"#FFFFFF\",\n",
    "                             title=dict(text=\"Force vs Time\", x=0.5, y=0.95, xanchor=\"center\",\n",
    "                                        font=dict(size=36, color=\"black\", family=\"Arial\")),\n",
    "                             xaxis=dict(title=dict(text=\"Time (ms)\", font=dict(family=\"Arial\", size=24, color=\"black\")),\n",
    "                                        tickfont=dict(size=24, color=\"black\", family=\"Arial\"), showgrid=True,\n",
    "                                        gridcolor=\"lightgrey\", gridwidth=1),\n",
    "                             yaxis=dict(title=dict(text=\"Force (kN)\", font=dict(family=\"Arial\", size=24, color=\"black\")),\n",
    "                                        tickfont=dict(size=24, color=\"black\", family=\"Arial\"), showgrid=True,\n",
    "                                        gridwidth=1, gridcolor=\"lightgrey\", zeroline=True, zerolinewidth=2, zerolinecolor=\"grey\"),\n",
    "                             legend=dict(title=\"Experiment\", x=1.0, y=1.0, font=dict(size=16, color=\"black\", family=\"Arial\"),\n",
    "                                         bgcolor=\"#FFFFFF\", bordercolor=\"black\", borderwidth=2))\n",
    "\n",
    "true_strain_rate.update_xaxes(range=[0, 0.12])\n",
    "true_strain_rate.update_yaxes(range=[0, 1800])\n",
    "\n",
    "# Display the interactive plot\n",
    "force_interphase.write_html(os.path.join(fig_path, \"force_study.html\"), include_plotlyjs='cdn')"
   ]
  },
  {
   "cell_type": "code",
   "execution_count": null,
   "id": "0b71f741-98fd-48a8-b922-7faf3f200cda",
   "metadata": {},
   "outputs": [],
   "source": []
  },
  {
   "cell_type": "code",
   "execution_count": null,
   "id": "0156f8b5-9228-4093-939f-0a36966dcd3e",
   "metadata": {},
   "outputs": [],
   "source": []
  },
  {
   "cell_type": "code",
   "execution_count": null,
   "id": "a48ee310-51a1-4825-925e-e3e2c4dc70bd",
   "metadata": {},
   "outputs": [],
   "source": []
  },
  {
   "cell_type": "code",
   "execution_count": null,
   "id": "77eafc54-7565-4533-b935-cbe1eeca817f",
   "metadata": {},
   "outputs": [],
   "source": []
  },
  {
   "cell_type": "code",
   "execution_count": null,
   "id": "9456beb2-d13e-4f07-8586-dc9431f76bf0",
   "metadata": {},
   "outputs": [],
   "source": []
  },
  {
   "cell_type": "code",
   "execution_count": null,
   "id": "f01665cd-134e-465e-b6ab-8304aabc3c5a",
   "metadata": {},
   "outputs": [],
   "source": []
  },
  {
   "cell_type": "code",
   "execution_count": null,
   "id": "556531a8-6252-4168-83c8-a6f25702e4cd",
   "metadata": {},
   "outputs": [],
   "source": []
  }
 ],
 "metadata": {
  "kernelspec": {
   "display_name": "Python 3 (ipykernel)",
   "language": "python",
   "name": "python3"
  },
  "language_info": {
   "codemirror_mode": {
    "name": "ipython",
    "version": 3
   },
   "file_extension": ".py",
   "mimetype": "text/x-python",
   "name": "python",
   "nbconvert_exporter": "python",
   "pygments_lexer": "ipython3",
   "version": "3.10.12"
  }
 },
 "nbformat": 4,
 "nbformat_minor": 5
}
